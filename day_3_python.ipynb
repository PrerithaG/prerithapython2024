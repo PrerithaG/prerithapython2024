{
  "nbformat": 4,
  "nbformat_minor": 0,
  "metadata": {
    "colab": {
      "provenance": []
    },
    "kernelspec": {
      "name": "python3",
      "display_name": "Python 3"
    },
    "language_info": {
      "name": "python"
    }
  },
  "cells": [
    {
      "cell_type": "markdown",
      "source": [],
      "metadata": {
        "id": "8VO8pR7qfjiv"
      }
    },
    {
      "cell_type": "markdown",
      "source": [
        "functions"
      ],
      "metadata": {
        "id": "8bezu4wZfiYS"
      }
    },
    {
      "cell_type": "code",
      "execution_count": null,
      "metadata": {
        "id": "dED6IKSMDjsW",
        "colab": {
          "base_uri": "https://localhost:8080/"
        },
        "outputId": "65579f08-14b9-4eae-9adf-ca5826978fbe"
      },
      "outputs": [
        {
          "output_type": "stream",
          "name": "stdout",
          "text": [
            "hello,alice!\n"
          ]
        }
      ],
      "source": [
        "def greet(name):\n",
        "  print(\"hello,\"+name+\"!\")\n",
        "greet('alice')"
      ]
    },
    {
      "cell_type": "markdown",
      "source": [
        "positional arguments"
      ],
      "metadata": {
        "id": "nEyf6nWgfAEf"
      }
    },
    {
      "cell_type": "code",
      "source": [
        "def add(a,b):\n",
        "  return a+b\n",
        "print(add(5,3))\n"
      ],
      "metadata": {
        "colab": {
          "base_uri": "https://localhost:8080/"
        },
        "id": "aa2plkDEe3IJ",
        "outputId": "f5033189-bb2c-441c-ab3a-085081e038ac"
      },
      "execution_count": null,
      "outputs": [
        {
          "output_type": "stream",
          "name": "stdout",
          "text": [
            "8\n"
          ]
        }
      ]
    },
    {
      "cell_type": "markdown",
      "source": [
        "keyword argument"
      ],
      "metadata": {
        "id": "iRu-dd5NgDwn"
      }
    },
    {
      "cell_type": "code",
      "source": [
        "def greet(name,message):\n",
        "  print(message+\",\"+name+\"!\")\n",
        "greet(name='alice',message='good morning')\n"
      ],
      "metadata": {
        "colab": {
          "base_uri": "https://localhost:8080/"
        },
        "id": "jXsjYNxAgBss",
        "outputId": "f4498aad-1e81-4f11-8982-c8181e7034fe"
      },
      "execution_count": null,
      "outputs": [
        {
          "output_type": "stream",
          "name": "stdout",
          "text": [
            "good morning,alice!\n"
          ]
        }
      ]
    },
    {
      "cell_type": "markdown",
      "source": [
        "default argument"
      ],
      "metadata": {
        "id": "fXdUXZGrgoKh"
      }
    },
    {
      "cell_type": "code",
      "source": [
        "def greet(name,message='hello'):\n",
        "  print(message+','+name+'!')\n",
        "greet('alice')\n",
        "greet('bob','hi')"
      ],
      "metadata": {
        "colab": {
          "base_uri": "https://localhost:8080/"
        },
        "id": "vFpwYvKpgtKH",
        "outputId": "366dab2e-7365-4b0c-9f54-b28eb9802fa0"
      },
      "execution_count": null,
      "outputs": [
        {
          "output_type": "stream",
          "name": "stdout",
          "text": [
            "hello,alice!\n",
            "hi,bob!\n"
          ]
        }
      ]
    },
    {
      "cell_type": "markdown",
      "source": [
        "variable length argument\n"
      ],
      "metadata": {
        "id": "or5hTI1fha0z"
      }
    },
    {
      "cell_type": "code",
      "source": [
        "def sum_numbers(*numbers):\n",
        "  return sum(numbers)\n",
        "print(sum_numbers(1,2,3,4))"
      ],
      "metadata": {
        "colab": {
          "base_uri": "https://localhost:8080/"
        },
        "id": "fK7taKLNhetn",
        "outputId": "7e2eea25-d92f-47cd-a24d-f12131ea9b96"
      },
      "execution_count": null,
      "outputs": [
        {
          "output_type": "stream",
          "name": "stdout",
          "text": [
            "1234\n"
          ]
        }
      ]
    },
    {
      "cell_type": "code",
      "source": [
        "def sonu(**numbers):\n",
        "  for key, value in numbers.items():\n",
        "    print(f\"{key}:{value}\")\n",
        "sonu(name='sonu',age=18,city='new york')"
      ],
      "metadata": {
        "colab": {
          "base_uri": "https://localhost:8080/"
        },
        "id": "BZf1PjAolK_x",
        "outputId": "e0add076-14d6-4df7-a0ca-59af3464d149"
      },
      "execution_count": null,
      "outputs": [
        {
          "output_type": "stream",
          "name": "stdout",
          "text": [
            "name:sonu\n",
            "age:18\n",
            "city:new york\n"
          ]
        }
      ]
    },
    {
      "cell_type": "markdown",
      "source": [
        "return statement"
      ],
      "metadata": {
        "id": "SRpNHpVLny-i"
      }
    },
    {
      "cell_type": "code",
      "source": [
        "def square(num):\n",
        "  return num*num\n",
        "print(square(5))"
      ],
      "metadata": {
        "colab": {
          "base_uri": "https://localhost:8080/"
        },
        "id": "0MEjAmSDoynq",
        "outputId": "4ac30c8f-244a-48b1-b274-fa9743b8cabe"
      },
      "execution_count": null,
      "outputs": [
        {
          "output_type": "stream",
          "name": "stdout",
          "text": [
            "25\n"
          ]
        }
      ]
    },
    {
      "cell_type": "markdown",
      "source": [
        "module"
      ],
      "metadata": {
        "id": "mLHIQnphqhvv"
      }
    },
    {
      "cell_type": "markdown",
      "source": [
        "importing modules"
      ],
      "metadata": {
        "id": "V7bnM_Sbqomf"
      }
    },
    {
      "cell_type": "code",
      "source": [
        "import math\n",
        "print(math.sqrt(16))"
      ],
      "metadata": {
        "colab": {
          "base_uri": "https://localhost:8080/"
        },
        "id": "Vr2NoWf4qk5z",
        "outputId": "7072e599-741b-4756-86d0-950e9e539bd1"
      },
      "execution_count": null,
      "outputs": [
        {
          "output_type": "stream",
          "name": "stdout",
          "text": [
            "4.0\n"
          ]
        }
      ]
    },
    {
      "cell_type": "markdown",
      "source": [],
      "metadata": {
        "id": "BWKW8zuyrPq6"
      }
    },
    {
      "cell_type": "code",
      "source": [
        "from math import pi,sin\n",
        "print(pi)\n",
        "print(sin(math.radians(180)))"
      ],
      "metadata": {
        "colab": {
          "base_uri": "https://localhost:8080/"
        },
        "id": "aD0RUHLVrQuB",
        "outputId": "5ca197c0-0ee4-45f1-c41d-db8931d23c18"
      },
      "execution_count": null,
      "outputs": [
        {
          "output_type": "stream",
          "name": "stdout",
          "text": [
            "3.141592653589793\n",
            "1.2246467991473532e-16\n"
          ]
        }
      ]
    },
    {
      "cell_type": "markdown",
      "source": [],
      "metadata": {
        "id": "Lh8VQ-IstwIQ"
      }
    },
    {
      "cell_type": "code",
      "source": [
        "def greet(name):\n",
        "  print('hello,'+name)\n",
        "def add(a,b):\n",
        "  return a+b\n",
        "import my_module\n",
        "\n",
        "my_module.greet('greet')\n",
        "print(my_module.add(7,8))"
      ],
      "metadata": {
        "colab": {
          "base_uri": "https://localhost:8080/",
          "height": 383
        },
        "id": "7JcifOKzuCec",
        "outputId": "77d35ec9-d77f-4400-fd5a-9c2f59a9bad1"
      },
      "execution_count": null,
      "outputs": [
        {
          "output_type": "error",
          "ename": "ModuleNotFoundError",
          "evalue": "No module named 'my_module'",
          "traceback": [
            "\u001b[0;31m---------------------------------------------------------------------------\u001b[0m",
            "\u001b[0;31mModuleNotFoundError\u001b[0m                       Traceback (most recent call last)",
            "\u001b[0;32m<ipython-input-37-cb0aab7e9300>\u001b[0m in \u001b[0;36m<cell line: 5>\u001b[0;34m()\u001b[0m\n\u001b[1;32m      3\u001b[0m \u001b[0;32mdef\u001b[0m \u001b[0madd\u001b[0m\u001b[0;34m(\u001b[0m\u001b[0ma\u001b[0m\u001b[0;34m,\u001b[0m\u001b[0mb\u001b[0m\u001b[0;34m)\u001b[0m\u001b[0;34m:\u001b[0m\u001b[0;34m\u001b[0m\u001b[0;34m\u001b[0m\u001b[0m\n\u001b[1;32m      4\u001b[0m   \u001b[0;32mreturn\u001b[0m \u001b[0ma\u001b[0m\u001b[0;34m+\u001b[0m\u001b[0mb\u001b[0m\u001b[0;34m\u001b[0m\u001b[0;34m\u001b[0m\u001b[0m\n\u001b[0;32m----> 5\u001b[0;31m \u001b[0;32mimport\u001b[0m \u001b[0mmy_module\u001b[0m\u001b[0;34m\u001b[0m\u001b[0;34m\u001b[0m\u001b[0m\n\u001b[0m\u001b[1;32m      6\u001b[0m \u001b[0;34m\u001b[0m\u001b[0m\n\u001b[1;32m      7\u001b[0m \u001b[0mmy_module\u001b[0m\u001b[0;34m.\u001b[0m\u001b[0mgreet\u001b[0m\u001b[0;34m(\u001b[0m\u001b[0;34m'greet'\u001b[0m\u001b[0;34m)\u001b[0m\u001b[0;34m\u001b[0m\u001b[0;34m\u001b[0m\u001b[0m\n",
            "\u001b[0;31mModuleNotFoundError\u001b[0m: No module named 'my_module'",
            "",
            "\u001b[0;31m---------------------------------------------------------------------------\u001b[0;32m\nNOTE: If your import is failing due to a missing package, you can\nmanually install dependencies using either !pip or !apt.\n\nTo view examples of installing some common dependencies, click the\n\"Open Examples\" button below.\n\u001b[0;31m---------------------------------------------------------------------------\u001b[0m\n"
          ],
          "errorDetails": {
            "actions": [
              {
                "action": "open_url",
                "actionText": "Open Examples",
                "url": "/notebooks/snippets/importing_libraries.ipynb"
              }
            ]
          }
        }
      ]
    },
    {
      "cell_type": "code",
      "source": [
        "from pickle import TRUE\n",
        "def is_prime(num):\n",
        "  if num<=1:\n",
        "    return False\n",
        "for i in range(2,int(num**0.5)+5):\n",
        "  if num % i==0:\n",
        "    return False\n",
        "return True\n",
        "\n",
        "number=int(input())"
      ],
      "metadata": {
        "colab": {
          "base_uri": "https://localhost:8080/",
          "height": 110
        },
        "id": "vq0m-YIeGqct",
        "outputId": "ae2c0356-240a-4c3a-eb0f-101cf943ea41"
      },
      "execution_count": null,
      "outputs": [
        {
          "output_type": "error",
          "ename": "SyntaxError",
          "evalue": "incomplete input (<ipython-input-3-0b8031da0abe>, line 7)",
          "traceback": [
            "\u001b[0;36m  File \u001b[0;32m\"<ipython-input-3-0b8031da0abe>\"\u001b[0;36m, line \u001b[0;32m7\u001b[0m\n\u001b[0;31m    \u001b[0m\n\u001b[0m    ^\u001b[0m\n\u001b[0;31mSyntaxError\u001b[0m\u001b[0;31m:\u001b[0m incomplete input\n"
          ]
        }
      ]
    },
    {
      "cell_type": "code",
      "source": [
        "\n",
        "def fibonacci(n):\n",
        "  sequence=[]\n",
        "  a,b=0,1\n",
        "  for i in range(n):\n",
        "    sequence.append(a)\n",
        "    a,b = b,a+b\n",
        "  return sequence\n",
        "terms=int(input('enter the number of terms:'))\n",
        "print('fibonacci sequence:',fibonacci(terms))"
      ],
      "metadata": {
        "colab": {
          "base_uri": "https://localhost:8080/"
        },
        "id": "DTbAriVPMmNu",
        "outputId": "5d03edf0-4c53-4d50-c20a-a9ac8bdb7897"
      },
      "execution_count": null,
      "outputs": [
        {
          "output_type": "stream",
          "name": "stdout",
          "text": [
            "enter the number of terms:7\n",
            "fibonacci sequence: [0, 1, 1, 2, 3, 5, 8]\n"
          ]
        }
      ]
    },
    {
      "cell_type": "code",
      "source": [
        "import math\n",
        "angle=float(input('enter an angle in degrees:'))\n",
        "radian = math.radians(angle)\n",
        "print('sine of angle:',math.sin(radian))\n",
        "print('cosine of angle:',math.cos(radian))"
      ],
      "metadata": {
        "colab": {
          "base_uri": "https://localhost:8080/"
        },
        "id": "HsS-4vrvPQsm",
        "outputId": "09225746-4270-4029-df9a-3b488a17e2ab"
      },
      "execution_count": null,
      "outputs": [
        {
          "output_type": "stream",
          "name": "stdout",
          "text": [
            "enter an angle in degrees:45\n",
            "sine of angle: 0.7071067811865475\n",
            "cosine of angle: 0.7071067811865476\n"
          ]
        }
      ]
    },
    {
      "cell_type": "code",
      "source": [
        "def factorial(n):\n",
        "  if n==0:\n",
        "    return 1\n",
        "  else:\n",
        "    return n*factorial(n-1)\n",
        "\n",
        "num = int(input('enter a number:'))\n",
        "print('factorial:',factorial(num))"
      ],
      "metadata": {
        "colab": {
          "base_uri": "https://localhost:8080/"
        },
        "id": "5wtWnc2fRcXd",
        "outputId": "6ec6a7df-5a94-4a90-83ee-339749cd89ff"
      },
      "execution_count": null,
      "outputs": [
        {
          "output_type": "stream",
          "name": "stdout",
          "text": [
            "enter a number:30\n",
            "factorial: 265252859812191058636308480000000\n"
          ]
        }
      ]
    },
    {
      "cell_type": "code",
      "source": [
        "def reverse_string(s):\n",
        "  return s[::-1]\n",
        "\n",
        "text=input('enter a string:')\n",
        "print('reversed string:',reverse_string(text))"
      ],
      "metadata": {
        "colab": {
          "base_uri": "https://localhost:8080/"
        },
        "id": "1gzcgcGDTWd7",
        "outputId": "2f928c89-4127-45c2-c8a6-fb0ba1b17211"
      },
      "execution_count": null,
      "outputs": [
        {
          "output_type": "stream",
          "name": "stdout",
          "text": [
            "enter a string:   anahcra\n",
            "reversed string: archana   \n"
          ]
        }
      ]
    },
    {
      "cell_type": "code",
      "source": [
        "\n",
        "def gcd(a,b):\n",
        " while b:\n",
        "    a,b = b,a% b\n",
        " return a\n",
        "\n",
        "num1= int(input('enter first number:'))\n",
        "num2= int(input('enter second number:'))\n",
        "print('gcd:',gcd(num1,num2))"
      ],
      "metadata": {
        "colab": {
          "base_uri": "https://localhost:8080/"
        },
        "id": "gpESiOcfY1zA",
        "outputId": "695545b8-4948-4fdb-ab98-e2f820f9aa30"
      },
      "execution_count": null,
      "outputs": [
        {
          "output_type": "stream",
          "name": "stdout",
          "text": [
            "enter first number:8\n",
            "enter second number:9\n",
            "gcd: 1\n"
          ]
        }
      ]
    }
  ]
}