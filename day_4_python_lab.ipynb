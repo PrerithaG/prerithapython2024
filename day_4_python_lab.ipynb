{
  "nbformat": 4,
  "nbformat_minor": 0,
  "metadata": {
    "colab": {
      "provenance": []
    },
    "kernelspec": {
      "name": "python3",
      "display_name": "Python 3"
    },
    "language_info": {
      "name": "python"
    }
  },
  "cells": [
    {
      "cell_type": "markdown",
      "source": [
        "data structures"
      ],
      "metadata": {
        "id": "UpzsFQUTKxcb"
      }
    },
    {
      "cell_type": "code",
      "execution_count": null,
      "metadata": {
        "colab": {
          "base_uri": "https://localhost:8080/"
        },
        "id": "EFSbq7gdI8gQ",
        "outputId": "ec3ac013-4bc3-49e2-b0fb-85822d79d7b1"
      },
      "outputs": [
        {
          "output_type": "stream",
          "name": "stdout",
          "text": [
            "[1, 2, 3, 4, 5, 6, 7, 8, 9, 10]\n"
          ]
        }
      ],
      "source": [
        "a = [1,2,3,4,5,6,7,8,9,10]\n",
        "print(a)"
      ]
    },
    {
      "cell_type": "code",
      "source": [
        "b = [1,2,3,4,'rajesh']\n",
        "print(b)"
      ],
      "metadata": {
        "colab": {
          "base_uri": "https://localhost:8080/"
        },
        "id": "6QEyBA5hMMv3",
        "outputId": "831bf01c-e332-4c8a-f06a-330a4cf9d03b"
      },
      "execution_count": null,
      "outputs": [
        {
          "output_type": "stream",
          "name": "stdout",
          "text": [
            "[1, 2, 3, 4, 'rajesh']\n"
          ]
        }
      ]
    },
    {
      "cell_type": "markdown",
      "source": [
        "list operations"
      ],
      "metadata": {
        "id": "tSUd-iAHMaAr"
      }
    },
    {
      "cell_type": "code",
      "source": [
        "print(a[9])\n",
        "print(a[-1])"
      ],
      "metadata": {
        "colab": {
          "base_uri": "https://localhost:8080/"
        },
        "id": "Hy6txJK1MXHl",
        "outputId": "d3c0bc7d-c3bc-43ec-d6d1-4b3ced1c8644"
      },
      "execution_count": null,
      "outputs": [
        {
          "output_type": "stream",
          "name": "stdout",
          "text": [
            "10\n",
            "10\n"
          ]
        }
      ]
    },
    {
      "cell_type": "code",
      "source": [
        "b.append(13)\n",
        "print(b)"
      ],
      "metadata": {
        "colab": {
          "base_uri": "https://localhost:8080/"
        },
        "id": "1OKOyX7WNfEC",
        "outputId": "ea6145bf-63d3-4473-d21b-6465a0fd0348"
      },
      "execution_count": null,
      "outputs": [
        {
          "output_type": "stream",
          "name": "stdout",
          "text": [
            "[1, 2, 3, 4, 'rajesh', 13]\n"
          ]
        }
      ]
    },
    {
      "cell_type": "code",
      "source": [
        "b.insert(-1,18)\n",
        "print(b)"
      ],
      "metadata": {
        "colab": {
          "base_uri": "https://localhost:8080/"
        },
        "id": "Pj0JbYOmOhXw",
        "outputId": "71beaac2-9d12-4b2d-a4b0-230c309c734a"
      },
      "execution_count": null,
      "outputs": [
        {
          "output_type": "stream",
          "name": "stdout",
          "text": [
            "[1, 2, 3, 4, 'rajesh', 18, 13]\n"
          ]
        }
      ]
    },
    {
      "cell_type": "code",
      "source": [
        "a.pop(3)\n",
        "a"
      ],
      "metadata": {
        "colab": {
          "base_uri": "https://localhost:8080/"
        },
        "id": "xhCZKRBsPa--",
        "outputId": "c8b2aa38-d107-44f5-e0b4-c1357e67036f"
      },
      "execution_count": null,
      "outputs": [
        {
          "output_type": "execute_result",
          "data": {
            "text/plain": [
              "[1, 2, 3, 5, 6, 7, 8, 9, 10]"
            ]
          },
          "metadata": {},
          "execution_count": 11
        }
      ]
    },
    {
      "cell_type": "code",
      "source": [
        "len(a)"
      ],
      "metadata": {
        "colab": {
          "base_uri": "https://localhost:8080/"
        },
        "id": "T9cduJKFPhZr",
        "outputId": "e0c32ac3-9472-4f59-960f-c6c2f78194c0"
      },
      "execution_count": null,
      "outputs": [
        {
          "output_type": "execute_result",
          "data": {
            "text/plain": [
              "9"
            ]
          },
          "metadata": {},
          "execution_count": 12
        }
      ]
    },
    {
      "cell_type": "code",
      "source": [
        "prakruthi = [3,5,8,6,2,9]\n",
        "prakruthi.sort()\n",
        "print(prakruthi)"
      ],
      "metadata": {
        "colab": {
          "base_uri": "https://localhost:8080/"
        },
        "id": "98d3dkXNPqAr",
        "outputId": "8a3ddbd4-6ebb-4b5f-c339-5e255fcc815b"
      },
      "execution_count": null,
      "outputs": [
        {
          "output_type": "stream",
          "name": "stdout",
          "text": [
            "[2, 3, 5, 6, 8, 9]\n"
          ]
        }
      ]
    },
    {
      "cell_type": "code",
      "source": [
        "numbers = {1,2,3,4,5,7,8,9,10}\n",
        "numbers.add(6)\n",
        "print(numbers)"
      ],
      "metadata": {
        "colab": {
          "base_uri": "https://localhost:8080/"
        },
        "id": "7l45UNniZREV",
        "outputId": "4464c9b1-0ab9-49ba-ddd1-9d1506fe2d87"
      },
      "execution_count": null,
      "outputs": [
        {
          "output_type": "stream",
          "name": "stdout",
          "text": [
            "{1, 2, 3, 4, 5, 6, 7, 8, 9, 10}\n"
          ]
        }
      ]
    },
    {
      "cell_type": "code",
      "source": [
        "numbers.remove(3)\n",
        "print(numbers)"
      ],
      "metadata": {
        "colab": {
          "base_uri": "https://localhost:8080/"
        },
        "id": "uARqsnWcadN0",
        "outputId": "38a25328-2b7e-426c-9905-75a406c77227"
      },
      "execution_count": null,
      "outputs": [
        {
          "output_type": "stream",
          "name": "stdout",
          "text": [
            "{1, 2, 4, 5, 6, 7, 8, 10}\n"
          ]
        }
      ]
    },
    {
      "cell_type": "code",
      "source": [
        "for i in a:\n",
        "  print(i)"
      ],
      "metadata": {
        "colab": {
          "base_uri": "https://localhost:8080/"
        },
        "id": "k4JqKS6Hau9F",
        "outputId": "232442a5-9113-401d-a6d2-e31af514ce3b"
      },
      "execution_count": null,
      "outputs": [
        {
          "output_type": "stream",
          "name": "stdout",
          "text": [
            "1\n",
            "2\n",
            "3\n",
            "5\n",
            "6\n",
            "7\n",
            "8\n",
            "9\n",
            "10\n"
          ]
        }
      ]
    },
    {
      "cell_type": "markdown",
      "source": [
        "tuples"
      ],
      "metadata": {
        "id": "xgt7OV5UeSF1"
      }
    },
    {
      "cell_type": "code",
      "source": [
        "prakruthi = (10,20,30)\n",
        "print(prakruthi[1])"
      ],
      "metadata": {
        "colab": {
          "base_uri": "https://localhost:8080/"
        },
        "id": "ConQ4--TeQK9",
        "outputId": "cc5154e6-22bd-45f5-ca44-ad6fd4dff9f1"
      },
      "execution_count": null,
      "outputs": [
        {
          "output_type": "stream",
          "name": "stdout",
          "text": [
            "20\n"
          ]
        }
      ]
    },
    {
      "cell_type": "markdown",
      "source": [
        "dictionary"
      ],
      "metadata": {
        "id": "qlYNhL0Be2ZN"
      }
    },
    {
      "cell_type": "code",
      "source": [
        "student ={\n",
        "  'name':'preritha',\n",
        "  'age':18,\n",
        "  'marks':95\n",
        "}\n",
        "student"
      ],
      "metadata": {
        "colab": {
          "base_uri": "https://localhost:8080/"
        },
        "id": "AVnAPGT9fkNk",
        "outputId": "d9f377fc-0955-4aa7-9871-ed4d2d7c1ec2"
      },
      "execution_count": null,
      "outputs": [
        {
          "output_type": "execute_result",
          "data": {
            "text/plain": [
              "{'name': 'preritha', 'age': 18, 'marks': 95}"
            ]
          },
          "metadata": {},
          "execution_count": 60
        }
      ]
    },
    {
      "cell_type": "markdown",
      "source": [
        "accessing"
      ],
      "metadata": {
        "id": "_FMPvPnAoVSd"
      }
    },
    {
      "cell_type": "code",
      "source": [
        "print(student['name'])"
      ],
      "metadata": {
        "colab": {
          "base_uri": "https://localhost:8080/"
        },
        "id": "c_A_by5IoUf-",
        "outputId": "c0f75839-db94-480a-9184-9ebbf9e05af6"
      },
      "execution_count": null,
      "outputs": [
        {
          "output_type": "stream",
          "name": "stdout",
          "text": [
            "preritha\n"
          ]
        }
      ]
    },
    {
      "cell_type": "markdown",
      "source": [
        "modifying"
      ],
      "metadata": {
        "id": "7YyLjYABoh9m"
      }
    },
    {
      "cell_type": "code",
      "source": [
        "student['age']=19\n",
        "print(student)"
      ],
      "metadata": {
        "colab": {
          "base_uri": "https://localhost:8080/"
        },
        "id": "H3xDhXNaoj2F",
        "outputId": "39b20183-cf30-404c-8f85-d8fcf9063333"
      },
      "execution_count": null,
      "outputs": [
        {
          "output_type": "stream",
          "name": "stdout",
          "text": [
            "{'name': 'preritha', 'age': 19, 'marks': 95}\n"
          ]
        }
      ]
    },
    {
      "cell_type": "markdown",
      "source": [
        "adding"
      ],
      "metadata": {
        "id": "1jQBkZwXo6IG"
      }
    },
    {
      "cell_type": "code",
      "source": [
        "student['grade']='A'\n",
        "student"
      ],
      "metadata": {
        "colab": {
          "base_uri": "https://localhost:8080/"
        },
        "id": "gWQxu8eto8lV",
        "outputId": "743ecf90-dff3-4918-82a2-aadf3b70eef6"
      },
      "execution_count": null,
      "outputs": [
        {
          "output_type": "execute_result",
          "data": {
            "text/plain": [
              "{'name': 'preritha', 'grade': 'A'}"
            ]
          },
          "metadata": {},
          "execution_count": 59
        }
      ]
    },
    {
      "cell_type": "markdown",
      "source": [
        "removing"
      ],
      "metadata": {
        "id": "ykB833arpS5N"
      }
    },
    {
      "cell_type": "code",
      "source": [
        "del student['age']\n",
        "print(student)"
      ],
      "metadata": {
        "colab": {
          "base_uri": "https://localhost:8080/"
        },
        "id": "R5j9_gqIpVYe",
        "outputId": "c40605e7-e7df-4eff-b96c-d18145a45542"
      },
      "execution_count": null,
      "outputs": [
        {
          "output_type": "stream",
          "name": "stdout",
          "text": [
            "{'name': 'preritha', 'grade': 'A'}\n"
          ]
        }
      ]
    },
    {
      "cell_type": "markdown",
      "source": [
        "set"
      ],
      "metadata": {
        "id": "fqXiTXNdrml-"
      }
    },
    {
      "cell_type": "code",
      "source": [
        "monkey = {1,2,3,4,5,6,7,8,9}\n",
        "monkey\n"
      ],
      "metadata": {
        "colab": {
          "base_uri": "https://localhost:8080/"
        },
        "id": "Z2Y3BPDWrqLe",
        "outputId": "e2a26700-2766-47ea-b72b-f222ced4ce7c"
      },
      "execution_count": null,
      "outputs": [
        {
          "output_type": "execute_result",
          "data": {
            "text/plain": [
              "{1, 2, 3, 4, 5, 6, 7, 8, 9}"
            ]
          },
          "metadata": {},
          "execution_count": 54
        }
      ]
    },
    {
      "cell_type": "markdown",
      "source": [
        "merge two lists"
      ],
      "metadata": {
        "id": "prwFCaG6suq-"
      }
    },
    {
      "cell_type": "code",
      "source": [
        "list1=[6,7,8,9,10]\n",
        "list2=[1,2,3,4,5]\n",
        "merged_list=list1+list2\n",
        "print('merged list:',merged_list)"
      ],
      "metadata": {
        "colab": {
          "base_uri": "https://localhost:8080/"
        },
        "id": "NOFM8s4tsy3e",
        "outputId": "ff6b0129-08e1-4a9d-e862-8de7acf3fe24"
      },
      "execution_count": null,
      "outputs": [
        {
          "output_type": "stream",
          "name": "stdout",
          "text": [
            "merged list: [6, 7, 8, 9, 10, 1, 2, 3, 4, 5]\n"
          ]
        }
      ]
    },
    {
      "cell_type": "markdown",
      "source": [
        "find the maximum and minimum in a list"
      ],
      "metadata": {
        "id": "XKaXAdW3uB_u"
      }
    },
    {
      "cell_type": "code",
      "source": [
        "numbers=[10,20,30,40,50,60]\n",
        "print('maximum:',max(numbers))\n",
        "print('minimum:',min(numbers))"
      ],
      "metadata": {
        "colab": {
          "base_uri": "https://localhost:8080/"
        },
        "id": "I4S-hi2juLce",
        "outputId": "6bd46e60-3648-499a-90fb-1ce8ed6f22d0"
      },
      "execution_count": null,
      "outputs": [
        {
          "output_type": "stream",
          "name": "stdout",
          "text": [
            "maximum: 60\n",
            "minimum: 10\n"
          ]
        }
      ]
    },
    {
      "cell_type": "markdown",
      "source": [
        "count frequency of elements in a list"
      ],
      "metadata": {
        "id": "r6o5NsR7vpze"
      }
    },
    {
      "cell_type": "code",
      "source": [
        "numbers=[1,2,2,3,3,3,4,4,4,4,5,5,5,5,5]\n",
        "frequency={}\n",
        "for num in numbers:\n",
        "  frequency[num]=frequency.get(num,0)+1\n",
        "print('frequency of elements:',frequency)"
      ],
      "metadata": {
        "colab": {
          "base_uri": "https://localhost:8080/"
        },
        "id": "rolYdYyhvyou",
        "outputId": "23eee32c-7a2e-4f01-827f-2b52afb3d99c"
      },
      "execution_count": null,
      "outputs": [
        {
          "output_type": "stream",
          "name": "stdout",
          "text": [
            "frequency of elements: {1: 1, 2: 2, 3: 3, 4: 4, 5: 5}\n"
          ]
        }
      ]
    },
    {
      "cell_type": "markdown",
      "source": [
        "sort a list of tuples by the second element"
      ],
      "metadata": {
        "id": "wK3gYplUxGs2"
      }
    },
    {
      "cell_type": "code",
      "source": [
        "abc ={\n",
        "  'name':'preritha',\n",
        "  'age':18,\n",
        "  'marks':95\n",
        "}\n",
        "abc"
      ],
      "metadata": {
        "colab": {
          "base_uri": "https://localhost:8080/"
        },
        "id": "657zKVeExOYP",
        "outputId": "47d1b42f-ccdc-4754-8b84-e957b59aaa16"
      },
      "execution_count": null,
      "outputs": [
        {
          "output_type": "execute_result",
          "data": {
            "text/plain": [
              "{'name': 'preritha', 'age': 18, 'marks': 95}"
            ]
          },
          "metadata": {},
          "execution_count": 63
        }
      ]
    },
    {
      "cell_type": "code",
      "source": [
        "abc['grade']='a'\n",
        "abc"
      ],
      "metadata": {
        "colab": {
          "base_uri": "https://localhost:8080/"
        },
        "id": "fRPJzb1pyUyX",
        "outputId": "5ab3e528-bea0-4559-ee9c-4737c54557fa"
      },
      "execution_count": null,
      "outputs": [
        {
          "output_type": "execute_result",
          "data": {
            "text/plain": [
              "{'name': 'preritha', 'age': 18, 'marks': 95, 'grade': 'a'}"
            ]
          },
          "metadata": {},
          "execution_count": 64
        }
      ]
    },
    {
      "cell_type": "markdown",
      "source": [
        "sort of a list of tuples by asecond element"
      ],
      "metadata": {
        "id": "JBNBcDpBy1sf"
      }
    },
    {
      "cell_type": "code",
      "source": [
        "tuples=[(1,'apples'),(2,'banana'),(3,'cherry')]\n",
        "sorted_tuples = sorted(tuples,key = lambda x:x[1])\n",
        "print('sorted tuples:',sorted_tuples)"
      ],
      "metadata": {
        "colab": {
          "base_uri": "https://localhost:8080/"
        },
        "id": "W_49pUexy8h-",
        "outputId": "ea7058bf-3bba-4731-cd19-7c8a03f9b3b1"
      },
      "execution_count": null,
      "outputs": [
        {
          "output_type": "stream",
          "name": "stdout",
          "text": [
            "sorted tuples: [(1, 'apples'), (2, 'banana'), (3, 'cherry')]\n"
          ]
        }
      ]
    },
    {
      "cell_type": "code",
      "source": [
        "number=int(input('enter a number:'))\n",
        "reverse_number=0\n",
        "temp=number\n",
        "\n",
        "while temp>0:\n",
        "  digit=temp % 10\n",
        "  reverse_number= reverse_number*10+digit\n",
        "  temp = temp // 10\n",
        "\n",
        "if number==reverse_number:\n",
        "  print(f'{number}pali')\n",
        "else:\n",
        "  print(f'{number} not pali')"
      ],
      "metadata": {
        "colab": {
          "base_uri": "https://localhost:8080/"
        },
        "id": "gstBKfHq3fi4",
        "outputId": "e79de013-28a8-4260-fe1c-d56fa29a2ae6"
      },
      "execution_count": 1,
      "outputs": [
        {
          "output_type": "stream",
          "name": "stdout",
          "text": [
            "enter a number:1234321\n",
            "1234321pali\n"
          ]
        }
      ]
    },
    {
      "cell_type": "markdown",
      "source": [],
      "metadata": {
        "id": "z2um3O9mJ9-l"
      }
    }
  ]
}